{
  "cells": [
    {
      "cell_type": "markdown",
      "metadata": {
        "id": "kMt432NK1Ngm"
      },
      "source": [
        "### DATA DESCRIPTION:\n",
        "The data set consists of complete educational details of students right from their\n",
        "schooling to MBA and previous work experience. Our main objective is to predict the Salary of the students\n",
        "based on the info available. The data set consists of 391 observations and 19 variables.\n",
        "\n",
        "### ATTRIBUTES:\n",
        "\n",
        "SlNo - ID of the student\n",
        "\n",
        "Gender - Gender of Student\n",
        "\n",
        "Percent_SSC - Percentage of marks scored in SSC\n",
        "\n",
        "Board_SSC - Types of Boards in SSC\n",
        "\n",
        "\n",
        "Percent_HSC - Percentage of marks scored in HSC\n",
        "\n",
        "Board_HSC - Types of Boards in HSC\n",
        "\n",
        "Stream_HSC - Specialization in HSC\n",
        "\n",
        "Percent Degree - Percentage of marks scored in Degree\n",
        "\n",
        "Course_Degree - Different courses in degree\n",
        "\n",
        "Experience_Yrs - Work Experience of the Students\n",
        "\n",
        "Entrance_Test - Test which students give for MBA college Entrance\n",
        "\n",
        "Percentile_ET - Percentage of marks scored in Entrance_Test\n",
        "\n",
        "\n",
        "Percent_MBA - Percentage of marks scored in MBA\n",
        "\n",
        "Specialization_MBA - Specialization in MBA\n",
        "\n",
        "Marks Communication - Percentage of marks scored in Communication\n",
        "\n",
        "Marks_Projectwork - Percentage of marks scored in Project Work\n",
        "\n",
        "\n",
        "Marks_BOCA - Percentage of marks scored by students in Extra Curricular\n",
        "\n",
        "activities\n",
        "\n",
        "Placement - Whether Student got placed or not\n",
        "\n",
        "\n",
        "Salary - Salary of students\n"
      ]
    },
    {
      "cell_type": "markdown",
      "metadata": {
        "id": "4FAX-CNq1Ngn"
      },
      "source": [
        "\n",
        "### 1.\t Read the dataset (tab, csv, xls, txt, inbuilt dataset)"
      ]
    },
    {
      "cell_type": "raw",
      "metadata": {
        "id": "wEgYP9-oW0cg"
      },
      "source": [
        "## Kindly change the below cells from markdown to code and execute it"
      ]
    },
    {
      "cell_type": "raw",
      "metadata": {
        "id": "VQ_WA9jKW0ch"
      },
      "source": [
        "import pandas as pd\n",
        "\n",
        "import csv\n",
        "\n",
        "with open(\"data_set.csv\",\"r\")as file:\n",
        "\n",
        "    reader=csv.reader(file)\n",
        "\n",
        "df=pd.read_csv(\"data_set.csv\")\n",
        "\n",
        "df.head()\n"
      ]
    },
    {
      "cell_type": "code",
      "execution_count": null,
      "metadata": {
        "id": "K7rk2wPs1Ngs",
        "outputId": "df9e04df-ef32-49aa-fe1a-829f90dbe5b5"
      },
      "outputs": [
        {
          "ename": "IndentationError",
          "evalue": "expected an indented block (Temp/ipykernel_16164/1121970429.py, line 7)",
          "output_type": "error",
          "traceback": [
            "\u001b[1;36m  File \u001b[1;32m\"C:\\Users\\hp\\AppData\\Local\\Temp/ipykernel_16164/1121970429.py\"\u001b[1;36m, line \u001b[1;32m7\u001b[0m\n\u001b[1;33m    reader=csv.reader(file)\u001b[0m\n\u001b[1;37m         ^\u001b[0m\n\u001b[1;31mIndentationError\u001b[0m\u001b[1;31m:\u001b[0m expected an indented block\n"
          ]
        }
      ],
      "source": [
        "import pandas as pd\n",
        "\n",
        "import csv\n",
        "\n",
        "with open(\"data_set.csv\",\"r\")as file:\n",
        "\n",
        "reader=csv.reader(file)\n",
        "df=pd.read_csv(\"data_set.csv\")\n",
        "\n",
        "df.head()\n",
        "\n"
      ]
    },
    {
      "cell_type": "markdown",
      "metadata": {
        "id": "mbuJVZ621Ngz"
      },
      "source": [
        "### 2.\tSummarize important observations from the data set (5 Marks)\n",
        "\n",
        "Some pointers which would help you, but don’t be limited by these\n",
        "\n",
        "a.\tWhat are the number of rows; no. & types of variables (continuous, categorical etc.)\n",
        "\n",
        "b.\tCalculate five point summary for numerical variables\n",
        "\n",
        "c.\tSummarize observations for categorical variables – no. of categories, % observations in each category\n"
      ]
    },
    {
      "cell_type": "code",
      "execution_count": null,
      "metadata": {
        "id": "BfJ-CcYp1Ng0"
      },
      "outputs": [],
      "source": [
        "a .info\n",
        "b .describe\n",
        "c bvalue count/len()*100"
      ]
    },
    {
      "cell_type": "markdown",
      "metadata": {
        "id": "SyZrTtxQ1NhE"
      },
      "source": [
        "### 3.\tCheck for defects in the data. Perform necessary actions to ‘fix’ these defects (5 Marks)\n",
        "\n",
        "Some pointers which would help you, but don’t be limited by these\n",
        "\n",
        "a.\tDo variables have missing/null values?\n",
        "\n",
        "b.\tDo variables have outliers?\n",
        "\n",
        "c.\tIs the data normally distributed? Is it a defect? Why or why not?\n"
      ]
    },
    {
      "cell_type": "code",
      "execution_count": null,
      "metadata": {
        "id": "Kpj4btzj1NhF"
      },
      "outputs": [],
      "source": [
        "b iqr zscore\n",
        "c skewness,shapiro,distplot\n",
        "# yes its defect\n",
        "# in linear regression the assummption shouldnt have outliers and normall dist"
      ]
    },
    {
      "cell_type": "markdown",
      "metadata": {
        "id": "0rtqRxQC1NhM"
      },
      "source": [
        "### 4.\tSummarize relationships among variables (10 marks)  \n",
        "\n",
        "a.\tPlot correlation plots. Which are the variables most correlated with Target? Which independent variables are correlated among themselves? Do you want to exclude some variables from the model based on this analysis? What other actions will you take?\n",
        "\n",
        "b.\tPlot all independent variables with the target. Are all relationships linear? If not, what steps would you take based on this information?\n",
        "\n",
        " Hint: based on your observations you may want to transform features or create additional features.\n"
      ]
    },
    {
      "cell_type": "code",
      "execution_count": null,
      "metadata": {
        "id": "R18J1jhx1NhN"
      },
      "outputs": [],
      "source": [
        "a heat map or pair plot\n",
        " vif\n",
        "build base model\n",
        "b plot"
      ]
    },
    {
      "cell_type": "markdown",
      "metadata": {
        "id": "7Dsu-keY1NhS"
      },
      "source": [
        "### 5.\tSplit dataset into train and test (70:30) (5 marks)\n",
        "\n",
        "a.\tAre both train and test representative of the overall data? How would you ascertain this statistically?\n"
      ]
    },
    {
      "cell_type": "code",
      "execution_count": null,
      "metadata": {
        "id": "eW7ggh9t1NhT"
      },
      "outputs": [],
      "source": []
    },
    {
      "cell_type": "markdown",
      "metadata": {
        "id": "aXFjts3E1NhX"
      },
      "source": [
        "### 6.\tFit a base model. Please write your key observations (15 marks)\n",
        "\n",
        "a.\tWhat is the overall R2? Please comment on whether it is good or not.\n",
        "\n",
        "b.\tWhat is the adjusted R2? Is it different from R2? Why?\n",
        "\n",
        "c.\tWhich variables are significant?\n",
        "\n",
        "d.\tIs there multicollinearity?\n",
        "\n",
        "e.\tWhich other key model output parameters do you want to look at?\n"
      ]
    },
    {
      "cell_type": "code",
      "execution_count": null,
      "metadata": {
        "id": "BIoxmmUw1NhZ"
      },
      "outputs": [],
      "source": [
        "#e ols cond no,durbin watson,pvalue"
      ]
    },
    {
      "cell_type": "markdown",
      "metadata": {
        "id": "s8MChr7L1Nhe"
      },
      "source": [
        "### 7.\tHow do you improve the accuracy of the model? Write clearly the changes that you will make before re-fitting the model. Fit the final model. (20 marks)\n",
        "Please feel free to have any number of iterations to get to the final answer. Marks are awarded based on the quality of final model you are able to achieve.\n"
      ]
    },
    {
      "cell_type": "code",
      "execution_count": null,
      "metadata": {
        "id": "OFs8JoPf1Nhf"
      },
      "outputs": [],
      "source": []
    },
    {
      "cell_type": "markdown",
      "metadata": {
        "id": "zwKKeBFq1Nhj"
      },
      "source": [
        "### 8.\tSummarize as follows (10 marks)\n",
        "\n",
        "1.\tSummarize the overall fit of the model and list down the measures to prove that it is a good model\n",
        "2.\tWrite down a business interpretation/explanation of the model – which variables are affecting the target the most and explain the relationship. Feel free to use charts or graphs to explain.\n",
        "3.\tWhat changes from the base model had the most affect on model performance\n",
        "4.\tWhat are the key risks to your results and interpretation\n"
      ]
    },
    {
      "cell_type": "code",
      "execution_count": null,
      "metadata": {
        "id": "g8mARUHN1Nhk"
      },
      "outputs": [],
      "source": [
        "4 overfitting  or under fitting"
      ]
    }
  ],
  "metadata": {
    "colab": {
      "provenance": []
    },
    "hide_input": false,
    "kernelspec": {
      "display_name": "Python 3 (ipykernel)",
      "language": "python",
      "name": "python3"
    },
    "language_info": {
      "codemirror_mode": {
        "name": "ipython",
        "version": 3
      },
      "file_extension": ".py",
      "mimetype": "text/x-python",
      "name": "python",
      "nbconvert_exporter": "python",
      "pygments_lexer": "ipython3",
      "version": "3.7.3"
    },
    "toc": {
      "base_numbering": 1,
      "nav_menu": {},
      "number_sections": true,
      "sideBar": true,
      "skip_h1_title": false,
      "title_cell": "Table of Contents",
      "title_sidebar": "Contents",
      "toc_cell": false,
      "toc_position": {},
      "toc_section_display": true,
      "toc_window_display": false
    },
    "varInspector": {
      "cols": {
        "lenName": 16,
        "lenType": 16,
        "lenVar": 40
      },
      "kernels_config": {
        "python": {
          "delete_cmd_postfix": "",
          "delete_cmd_prefix": "del ",
          "library": "var_list.py",
          "varRefreshCmd": "print(var_dic_list())"
        },
        "r": {
          "delete_cmd_postfix": ") ",
          "delete_cmd_prefix": "rm(",
          "library": "var_list.r",
          "varRefreshCmd": "cat(var_dic_list()) "
        }
      },
      "types_to_exclude": [
        "module",
        "function",
        "builtin_function_or_method",
        "instance",
        "_Feature"
      ],
      "window_display": false
    }
  },
  "nbformat": 4,
  "nbformat_minor": 0
}